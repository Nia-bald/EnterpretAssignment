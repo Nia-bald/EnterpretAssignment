{
 "cells": [
  {
   "cell_type": "code",
   "execution_count": 6,
   "id": "e28dd9ba",
   "metadata": {},
   "outputs": [],
   "source": [
    "import pandas as pd"
   ]
  },
  {
   "cell_type": "code",
   "execution_count": 7,
   "id": "e23d7c4a",
   "metadata": {},
   "outputs": [],
   "source": [
    "evaluation = pd.read_csv('evaluation.csv')\n",
    "train = pd.read_csv('train.csv')"
   ]
  },
  {
   "cell_type": "code",
   "execution_count": 40,
   "id": "23993290",
   "metadata": {},
   "outputs": [
    {
     "data": {
      "text/html": [
       "<div>\n",
       "<style scoped>\n",
       "    .dataframe tbody tr th:only-of-type {\n",
       "        vertical-align: middle;\n",
       "    }\n",
       "\n",
       "    .dataframe tbody tr th {\n",
       "        vertical-align: top;\n",
       "    }\n",
       "\n",
       "    .dataframe thead th {\n",
       "        text-align: right;\n",
       "    }\n",
       "</style>\n",
       "<table border=\"1\" class=\"dataframe\">\n",
       "  <thead>\n",
       "    <tr style=\"text-align: right;\">\n",
       "      <th></th>\n",
       "      <th>text</th>\n",
       "      <th>reason</th>\n",
       "      <th>label</th>\n",
       "    </tr>\n",
       "  </thead>\n",
       "  <tbody>\n",
       "    <tr>\n",
       "      <th>0</th>\n",
       "      <td>the app is crashing when i play a vedio</td>\n",
       "      <td>app crashes during playback</td>\n",
       "      <td>1</td>\n",
       "    </tr>\n",
       "    <tr>\n",
       "      <th>1</th>\n",
       "      <td>but i want to connect it to the tv from one de...</td>\n",
       "      <td>want compatibility with more smart televisions</td>\n",
       "      <td>0</td>\n",
       "    </tr>\n",
       "    <tr>\n",
       "      <th>2</th>\n",
       "      <td>very helpful when and home working remotley</td>\n",
       "      <td>good app for work</td>\n",
       "      <td>0</td>\n",
       "    </tr>\n",
       "    <tr>\n",
       "      <th>3</th>\n",
       "      <td>this zoom so called and missed call and mobile...</td>\n",
       "      <td>receiving incorrect phone number message</td>\n",
       "      <td>0</td>\n",
       "    </tr>\n",
       "    <tr>\n",
       "      <th>4</th>\n",
       "      <td>one of my favorite apps</td>\n",
       "      <td>good for spending time</td>\n",
       "      <td>0</td>\n",
       "    </tr>\n",
       "    <tr>\n",
       "      <th>5</th>\n",
       "      <td>I have enjoyed watching my favorite shows and ...</td>\n",
       "      <td>good to watch shows</td>\n",
       "      <td>1</td>\n",
       "    </tr>\n",
       "    <tr>\n",
       "      <th>6</th>\n",
       "      <td>we have not had internet for a month and a hal...</td>\n",
       "      <td>unable to access live tv</td>\n",
       "      <td>0</td>\n",
       "    </tr>\n",
       "    <tr>\n",
       "      <th>7</th>\n",
       "      <td>this is great app when you download the video ...</td>\n",
       "      <td>good app to download videos</td>\n",
       "      <td>1</td>\n",
       "    </tr>\n",
       "    <tr>\n",
       "      <th>8</th>\n",
       "      <td>excellent app for video conferencing, the only...</td>\n",
       "      <td>want to record on ipad</td>\n",
       "      <td>0</td>\n",
       "    </tr>\n",
       "    <tr>\n",
       "      <th>9</th>\n",
       "      <td>also, i can continue watching where i left off.</td>\n",
       "      <td>unable to sync watched episodes</td>\n",
       "      <td>0</td>\n",
       "    </tr>\n",
       "    <tr>\n",
       "      <th>10</th>\n",
       "      <td>sorry to say that a small issue takes more tha...</td>\n",
       "      <td>zoom server crashes</td>\n",
       "      <td>0</td>\n",
       "    </tr>\n",
       "  </tbody>\n",
       "</table>\n",
       "</div>"
      ],
      "text/plain": [
       "                                                 text  \\\n",
       "0             the app is crashing when i play a vedio   \n",
       "1   but i want to connect it to the tv from one de...   \n",
       "2         very helpful when and home working remotley   \n",
       "3   this zoom so called and missed call and mobile...   \n",
       "4                             one of my favorite apps   \n",
       "5   I have enjoyed watching my favorite shows and ...   \n",
       "6   we have not had internet for a month and a hal...   \n",
       "7   this is great app when you download the video ...   \n",
       "8   excellent app for video conferencing, the only...   \n",
       "9     also, i can continue watching where i left off.   \n",
       "10  sorry to say that a small issue takes more tha...   \n",
       "\n",
       "                                            reason  label  \n",
       "0                      app crashes during playback      1  \n",
       "1   want compatibility with more smart televisions      0  \n",
       "2                                good app for work      0  \n",
       "3         receiving incorrect phone number message      0  \n",
       "4                           good for spending time      0  \n",
       "5                              good to watch shows      1  \n",
       "6                         unable to access live tv      0  \n",
       "7                      good app to download videos      1  \n",
       "8                           want to record on ipad      0  \n",
       "9                  unable to sync watched episodes      0  \n",
       "10                             zoom server crashes      0  "
      ]
     },
     "execution_count": 40,
     "metadata": {},
     "output_type": "execute_result"
    }
   ],
   "source": [
    "evaluation.head(11)"
   ]
  },
  {
   "cell_type": "code",
   "execution_count": 87,
   "id": "a8a87424",
   "metadata": {},
   "outputs": [],
   "source": [
    "noOfdata = 40"
   ]
  },
  {
   "cell_type": "code",
   "execution_count": 32,
   "id": "ad62d4ec",
   "metadata": {},
   "outputs": [],
   "source": []
  },
  {
   "cell_type": "code",
   "execution_count": 10,
   "id": "53d232ff",
   "metadata": {},
   "outputs": [],
   "source": []
  },
  {
   "cell_type": "code",
   "execution_count": 33,
   "id": "0aa4b72c",
   "metadata": {},
   "outputs": [],
   "source": [
    "model_name = 'sentence-transformers/bert-base-nli-mean-tokens'\n",
    "tokenizer = AutoTokenizer.from_pretrained(model_name)\n",
    "model = AutoModel.from_pretrained(model_name)"
   ]
  },
  {
   "cell_type": "code",
   "execution_count": 88,
   "id": "ff95c0ec",
   "metadata": {},
   "outputs": [],
   "source": [
    "tokens = {'input_ids':[],\n",
    "         'attention_mask':[]}\n",
    "actual = []\n",
    "for i in range(noOfdata):\n",
    "    actual.append(evaluation.loc[i,'label'])\n",
    "    tokenizedText = tokenizer.encode_plus(evaluation.loc[i,'text'],\n",
    "                                          max_length=128,\n",
    "                                          truncation=True,\n",
    "                                          padding='max_length',\n",
    "                                          return_tensors='pt')\n",
    "    tokens['input_ids'].append(tokenizedText['input_ids'][0])\n",
    "    tokens['attention_mask'].append(tokenizedText['attention_mask'][0])\n",
    "    "
   ]
  },
  {
   "cell_type": "code",
   "execution_count": 89,
   "id": "5c13efc2",
   "metadata": {},
   "outputs": [],
   "source": [
    "for i in range(noOfdata):\n",
    "    tokenizedreason = tokenizer.encode_plus(evaluation.loc[i,'reason'],\n",
    "                                          max_length=128,\n",
    "                                          truncation=True,\n",
    "                                          padding='max_length',\n",
    "                                          return_tensors='pt')\n",
    "    tokens['input_ids'].append(tokenizedreason['input_ids'][0])\n",
    "    tokens['attention_mask'].append(tokenizedreason['attention_mask'][0])"
   ]
  },
  {
   "cell_type": "code",
   "execution_count": 90,
   "id": "d58e4847",
   "metadata": {},
   "outputs": [
    {
     "data": {
      "text/plain": [
       "80"
      ]
     },
     "execution_count": 90,
     "metadata": {},
     "output_type": "execute_result"
    }
   ],
   "source": [
    "len(tokens['input_ids'])"
   ]
  },
  {
   "cell_type": "code",
   "execution_count": 91,
   "id": "177203b5",
   "metadata": {},
   "outputs": [],
   "source": [
    "import torch"
   ]
  },
  {
   "cell_type": "code",
   "execution_count": 92,
   "id": "dc6d45b6",
   "metadata": {},
   "outputs": [],
   "source": [
    "tokens['input_ids'] =  torch.stack(tokens['input_ids'])\n",
    "tokens['attention_mask'] = torch.stack(tokens['attention_mask'])"
   ]
  },
  {
   "cell_type": "code",
   "execution_count": null,
   "id": "599fc241",
   "metadata": {},
   "outputs": [],
   "source": [
    "outputs = model(**tokens)"
   ]
  },
  {
   "cell_type": "code",
   "execution_count": 67,
   "id": "45f4bf51",
   "metadata": {},
   "outputs": [],
   "source": [
    "embeddings = outputs.last_hidden_state"
   ]
  },
  {
   "cell_type": "code",
   "execution_count": 68,
   "id": "b35b076c",
   "metadata": {},
   "outputs": [],
   "source": [
    "attention = tokens['attention_mask']"
   ]
  },
  {
   "cell_type": "code",
   "execution_count": 69,
   "id": "9d459f0e",
   "metadata": {},
   "outputs": [
    {
     "data": {
      "text/plain": [
       "torch.Size([20, 128, 768])"
      ]
     },
     "execution_count": 69,
     "metadata": {},
     "output_type": "execute_result"
    }
   ],
   "source": [
    "mask = attention.unsqueeze(-1).expand(embeddings.shape).float() # adds another dimention to attention by just copying the prev val\n",
    "mask_embedding = embeddings*mask\n",
    "mask_embedding.shape"
   ]
  },
  {
   "cell_type": "code",
   "execution_count": 70,
   "id": "45b3b320",
   "metadata": {},
   "outputs": [
    {
     "data": {
      "text/plain": [
       "torch.Size([20, 768])"
      ]
     },
     "execution_count": 70,
     "metadata": {},
     "output_type": "execute_result"
    }
   ],
   "source": [
    "summed = torch.sum(mask_embedding, 1) # so this summs up all the 128 lists of tokens\n",
    "summed.shape # 6, 768"
   ]
  },
  {
   "cell_type": "code",
   "execution_count": 71,
   "id": "4aa78c03",
   "metadata": {},
   "outputs": [
    {
     "data": {
      "text/plain": [
       "torch.Size([20, 768])"
      ]
     },
     "execution_count": 71,
     "metadata": {},
     "output_type": "execute_result"
    }
   ],
   "source": [
    "counts = torch.clamp(mask.sum(1), min=1e-9) # any value less than 10**-9 will be clamped\n",
    "# but mask.sum is not a 1 dimensional tensor so I guess it applies to everyvalue in the tensor\n",
    "# but since we are only summing 0s and 1s it would imply all the zeroes will turn into 10**9\n",
    "# so i gues counts[i][j] basically contains no. of tokens in ith sentence\n",
    "# minis taken to be 1e-9 to avoid divide by zero errors\n",
    "counts.shape # 6, 768"
   ]
  },
  {
   "cell_type": "code",
   "execution_count": 72,
   "id": "608beb38",
   "metadata": {},
   "outputs": [],
   "source": [
    "mean_pooled = summed/counts\n",
    "mean_pooled = mean_pooled.detach().numpy() # need to detach from a pytorch tensor type"
   ]
  },
  {
   "cell_type": "code",
   "execution_count": 73,
   "id": "2a33366c",
   "metadata": {},
   "outputs": [],
   "source": [
    "from sklearn.metrics.pairwise import cosine_similarity"
   ]
  },
  {
   "cell_type": "code",
   "execution_count": 81,
   "id": "0344cbb1",
   "metadata": {},
   "outputs": [],
   "source": [
    "predicted = []\n",
    "for i in range(int(len(mean_pooled)/2)):\n",
    "    predicted.append(cosine_similarity([mean_pooled[i]], [mean_pooled[i+10]])[0][0])"
   ]
  },
  {
   "cell_type": "code",
   "execution_count": 84,
   "id": "69b8ed8f",
   "metadata": {},
   "outputs": [
    {
     "data": {
      "text/plain": [
       "[0.81402314,\n",
       " 0.5867584,\n",
       " 0.7211721,\n",
       " 0.7607285,\n",
       " 0.6903439,\n",
       " 0.74190235,\n",
       " 0.625509,\n",
       " 0.6970588,\n",
       " 0.5130979,\n",
       " 0.28796712]"
      ]
     },
     "execution_count": 84,
     "metadata": {},
     "output_type": "execute_result"
    }
   ],
   "source": [
    "predicted"
   ]
  },
  {
   "cell_type": "code",
   "execution_count": 77,
   "id": "e0e60b9a",
   "metadata": {},
   "outputs": [
    {
     "data": {
      "text/plain": [
       "[1, 0, 0, 0, 0, 1, 0, 1, 0, 0]"
      ]
     },
     "execution_count": 77,
     "metadata": {},
     "output_type": "execute_result"
    }
   ],
   "source": [
    "actual"
   ]
  },
  {
   "cell_type": "code",
   "execution_count": null,
   "id": "598ea935",
   "metadata": {},
   "outputs": [],
   "source": []
  },
  {
   "cell_type": "code",
   "execution_count": null,
   "id": "fd5a10f6",
   "metadata": {},
   "outputs": [],
   "source": []
  },
  {
   "cell_type": "code",
   "execution_count": null,
   "id": "65976f6e",
   "metadata": {},
   "outputs": [],
   "source": []
  }
 ],
 "metadata": {
  "kernelspec": {
   "display_name": "Python 3",
   "language": "python",
   "name": "python3"
  },
  "language_info": {
   "codemirror_mode": {
    "name": "ipython",
    "version": 3
   },
   "file_extension": ".py",
   "mimetype": "text/x-python",
   "name": "python",
   "nbconvert_exporter": "python",
   "pygments_lexer": "ipython3",
   "version": "3.10.9"
  }
 },
 "nbformat": 4,
 "nbformat_minor": 5
}
